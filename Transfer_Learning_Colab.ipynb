[![Open In Colab](https://colab.research.google.com/assets/colab-badge.svg)](https://colab.research.google.com/github/SEU_USUARIO/Transfer-Learning-Project/blob/main/Transfer_Learning_Colab.ipynb)
